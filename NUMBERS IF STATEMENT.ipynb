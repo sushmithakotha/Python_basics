{
 "cells": [
  {
   "cell_type": "code",
   "execution_count": 7,
   "id": "ba056471",
   "metadata": {},
   "outputs": [
    {
     "name": "stdout",
     "output_type": "stream",
     "text": [
      "802\n"
     ]
    }
   ],
   "source": [
    "# variables here we assing a value to a variable\n",
    "x = 123\n",
    "y = 679 \n",
    "add = x+y\n",
    "print(add)"
   ]
  },
  {
   "cell_type": "code",
   "execution_count": 9,
   "id": "384ca01d",
   "metadata": {},
   "outputs": [
    {
     "name": "stdout",
     "output_type": "stream",
     "text": [
      "79\n"
     ]
    }
   ],
   "source": [
    "x = 568\n",
    "y = 489\n",
    "sub = x-y\n",
    "print(sub)"
   ]
  },
  {
   "cell_type": "code",
   "execution_count": 12,
   "id": "faf808b3",
   "metadata": {},
   "outputs": [
    {
     "name": "stdout",
     "output_type": "stream",
     "text": [
      "1467 -111\n"
     ]
    }
   ],
   "source": [
    "#variable examples ended\n",
    "x =678\n",
    "y = 789\n",
    "add = x+y\n",
    "sub = x-y\n",
    "print(add,sub)"
   ]
  },
  {
   "cell_type": "code",
   "execution_count": 14,
   "id": "873c41c2",
   "metadata": {},
   "outputs": [
    {
     "data": {
      "text/plain": [
       "2"
      ]
     },
     "execution_count": 14,
     "metadata": {},
     "output_type": "execute_result"
    }
   ],
   "source": [
    "#numbers examples\n",
    "# adding numbers\n",
    "1+1"
   ]
  },
  {
   "cell_type": "code",
   "execution_count": 16,
   "id": "7cb211a2",
   "metadata": {},
   "outputs": [
    {
     "data": {
      "text/plain": [
       "224"
      ]
     },
     "execution_count": 16,
     "metadata": {},
     "output_type": "execute_result"
    }
   ],
   "source": [
    "# multiplying numbers\n",
    "(19*8+9*8)"
   ]
  },
  {
   "cell_type": "code",
   "execution_count": 18,
   "id": "dd667cf6",
   "metadata": {},
   "outputs": [
    {
     "data": {
      "text/plain": [
       "16983563041"
      ]
     },
     "execution_count": 18,
     "metadata": {},
     "output_type": "execute_result"
    }
   ],
   "source": [
    "# finding a power to the given number\n",
    "19**8"
   ]
  },
  {
   "cell_type": "code",
   "execution_count": 3,
   "id": "f6debcce",
   "metadata": {},
   "outputs": [
    {
     "data": {
      "text/plain": [
       "601692066"
      ]
     },
     "execution_count": 3,
     "metadata": {},
     "output_type": "execute_result"
    }
   ],
   "source": [
    "#numbers example ended\n",
    "(57**5+9)"
   ]
  },
  {
   "cell_type": "code",
   "execution_count": 8,
   "id": "abbcb79d",
   "metadata": {},
   "outputs": [
    {
     "name": "stdout",
     "output_type": "stream",
     "text": [
      "the session is : python, timing is : 5\n"
     ]
    }
   ],
   "source": [
    "#string examples\n",
    "session = 'python'\n",
    "timing = 5;30\n",
    "print('the session is : {}, timing is : {}' . format(session , timing))"
   ]
  },
  {
   "cell_type": "code",
   "execution_count": 10,
   "id": "6a228779",
   "metadata": {},
   "outputs": [
    {
     "name": "stdout",
     "output_type": "stream",
     "text": [
      "the datatype1 is : string, datatype2 is : number, datatype3 is : print, datatype4 is : lists\n"
     ]
    }
   ],
   "source": [
    "datatype1 = 'string'\n",
    "datatype2 = 'number'\n",
    "datatype3 = 'print'\n",
    "datatype4 = 'lists'\n",
    "print('the datatype1 is : {}, datatype2 is : {}, datatype3 is : {}, datatype4 is : {}' . format(datatype1, datatype2, datatype3, datatype4))"
   ]
  },
  {
   "cell_type": "code",
   "execution_count": 2,
   "id": "c230b535",
   "metadata": {},
   "outputs": [
    {
     "name": "stdout",
     "output_type": "stream",
     "text": [
      "145 5226\n"
     ]
    }
   ],
   "source": [
    "#number  examples ended\n",
    "x = 67\n",
    "y = 78\n",
    "mul = x*y\n",
    "add = x+y\n",
    "print(add,mul)"
   ]
  },
  {
   "cell_type": "code",
   "execution_count": 3,
   "id": "8fd9a4bf",
   "metadata": {},
   "outputs": [
    {
     "name": "stdout",
     "output_type": "stream",
     "text": [
      "this is true\n"
     ]
    }
   ],
   "source": [
    "#looops\n",
    "#\n",
    "a = 56\n",
    "b = 67\n",
    "if b>a:\n",
    "    print('this is true')\n",
    "\n"
   ]
  },
  {
   "cell_type": "code",
   "execution_count": 5,
   "id": "876cd878",
   "metadata": {},
   "outputs": [
    {
     "name": "stdout",
     "output_type": "stream",
     "text": [
      "this is true\n"
     ]
    }
   ],
   "source": [
    "a = 78\n",
    "b = 48\n",
    "if a>b:\n",
    "    print('this is true')"
   ]
  },
  {
   "cell_type": "code",
   "execution_count": 14,
   "id": "e498bf48",
   "metadata": {},
   "outputs": [
    {
     "name": "stdout",
     "output_type": "stream",
     "text": [
      "this is true\n"
     ]
    }
   ],
   "source": [
    "a = 78\n",
    "b = 89\n",
    "if a<b:\n",
    "    print('this is true')\n"
   ]
  },
  {
   "cell_type": "code",
   "execution_count": 36,
   "id": "a718ee3b",
   "metadata": {},
   "outputs": [
    {
     "name": "stdout",
     "output_type": "stream",
     "text": [
      "if the statement is true\n"
     ]
    }
   ],
   "source": [
    "a = 88\n",
    "b = 88\n",
    "if a == b:\n",
    "    print('if the statement is true')\n"
   ]
  },
  {
   "cell_type": "code",
   "execution_count": 154,
   "id": "f8e8a96e",
   "metadata": {},
   "outputs": [
    {
     "name": "stdout",
     "output_type": "stream",
     "text": [
      "if the statement is true\n"
     ]
    }
   ],
   "source": [
    "a = 87\n",
    "b = 88\n",
    "if a<b:\n",
    "    print('if the statement is true')"
   ]
  },
  {
   "cell_type": "code",
   "execution_count": 99,
   "id": "239815b1",
   "metadata": {},
   "outputs": [
    {
     "name": "stdout",
     "output_type": "stream",
     "text": [
      "if the statement is true\n"
     ]
    }
   ],
   "source": [
    "a = 87\n",
    "b = 88\n",
    "if a<b:\n",
    "    print('if the statement is true')"
   ]
  },
  {
   "cell_type": "code",
   "execution_count": 36,
   "id": "aa4ac0d4",
   "metadata": {},
   "outputs": [
    {
     "name": "stdout",
     "output_type": "stream",
     "text": [
      "a and b are equal\n"
     ]
    }
   ],
   "source": [
    "a = 33\n",
    "b = 33\n",
    "if b>a:\n",
    "    print('this is true')\n",
    "elif a==b:\n",
    "    print('a and b are equal')"
   ]
  },
  {
   "cell_type": "code",
   "execution_count": 98,
   "id": "d65da823",
   "metadata": {},
   "outputs": [
    {
     "name": "stdout",
     "output_type": "stream",
     "text": [
      "if the statement is true\n"
     ]
    }
   ],
   "source": [
    "a = 67\n",
    "b = 78\n",
    "if b>a:\n",
    "    print('if the statement is true')"
   ]
  },
  {
   "cell_type": "code",
   "execution_count": 112,
   "id": "2e65caa5",
   "metadata": {},
   "outputs": [
    {
     "name": "stdout",
     "output_type": "stream",
     "text": [
      "if sushmitha is a\n"
     ]
    }
   ],
   "source": [
    "a = 'sushmitha'\n",
    "if a:\n",
    "    print('if sushmitha is a')\n",
    "    "
   ]
  },
  {
   "cell_type": "code",
   "execution_count": 135,
   "id": "db0b26af",
   "metadata": {},
   "outputs": [
    {
     "name": "stdout",
     "output_type": "stream",
     "text": [
      "this is true\n"
     ]
    }
   ],
   "source": [
    "statement1 = 'she likes tea'\n",
    "statement2 = 'she likes tea'\n",
    "if statement1==statement2:\n",
    "    print('this is true')\n",
    "    \n",
    "    "
   ]
  },
  {
   "cell_type": "code",
   "execution_count": 151,
   "id": "b2221fe9",
   "metadata": {},
   "outputs": [
    {
     "name": "stdout",
     "output_type": "stream",
     "text": [
      "this is good\n"
     ]
    }
   ],
   "source": [
    "vinisha = 'i like tea'\n",
    "sushmitha = 'i like tea'\n",
    "if vinisha==sushmitha:\n",
    "    print('this is good')"
   ]
  },
  {
   "cell_type": "code",
   "execution_count": 156,
   "id": "ebce91e3",
   "metadata": {},
   "outputs": [
    {
     "name": "stdout",
     "output_type": "stream",
     "text": [
      "this is good\n"
     ]
    }
   ],
   "source": [
    "sushmitha = 'i like tea'\n",
    "sushmitha = 'i like coffe'\n",
    "if sushmitha==sushmitha:\n",
    "    print('this is good')"
   ]
  },
  {
   "cell_type": "code",
   "execution_count": null,
   "id": "8f94a615",
   "metadata": {},
   "outputs": [],
   "source": [
    "a = 66\n",
    "b = 66\n",
    "if b>a:\n",
    "    print('this is true')\n",
    "elif a == b:\n",
    "    print('a and b are equal')"
   ]
  },
  {
   "cell_type": "code",
   "execution_count": 7,
   "id": "616e8fd6",
   "metadata": {},
   "outputs": [
    {
     "name": "stdout",
     "output_type": "stream",
     "text": [
      "Enter the amount:900\n",
      "Discount 45.0\n"
     ]
    }
   ],
   "source": [
    "#  example of if and else\n",
    "amount = int(input('Enter the amount:'))\n",
    "if amount<1000:\n",
    "    discount = amount*0.05\n",
    "    print('Discount' ,discount)\n",
    "else:\n",
    "    discount=amount*0.10\n",
    "    print('Discount',discount)\n",
    "    print('net payable:',amount-discount)"
   ]
  },
  {
   "cell_type": "code",
   "execution_count": 27,
   "id": "9e8501b7",
   "metadata": {},
   "outputs": [
    {
     "name": "stdout",
     "output_type": "stream",
     "text": [
      "Enter the amount:2000\n",
      "The discount is 200.0\n",
      "net payable: 1800.0\n"
     ]
    }
   ],
   "source": [
    "# another example of  if else\n",
    "Billpayable = int(input('Enter the amount:'))\n",
    "if Billpayable<5000:\n",
    "    discountedvalue = Billpayable*0.10\n",
    "    print('The discount is', discountedvalue)\n",
    "else:\n",
    "    discountedvalue = Billpayable*0.20\n",
    "    print('The discount is', discountedvalue)\n",
    "    \n",
    "print('net payable:',Billpayable-discountedvalue)"
   ]
  },
  {
   "cell_type": "code",
   "execution_count": 22,
   "id": "c8ebd74b",
   "metadata": {},
   "outputs": [
    {
     "name": "stdout",
     "output_type": "stream",
     "text": [
      "Enter the amount:15000\n",
      "show discount value is 4500.0\n",
      "net payable: 10500.0\n"
     ]
    }
   ],
   "source": [
    "# another example of if else elif\n",
    "Totalprice = int(input('Enter the amount:'))\n",
    "if   Totalprice<5000:\n",
    "    excludingdiscount = Totalprice*0.10\n",
    "    print('show discount value is', excludingdiscount)\n",
    "elif Totalprice<10000:\n",
    "    excludingdiscount = Totalprice*0.20\n",
    "    print('show discount value is', excludingdiscount)\n",
    "else:\n",
    "    excludingdiscount = Totalprice*0.30\n",
    "    print('show discount value is', excludingdiscount)\n",
    "print('net payable:',Totalprice-excludingdiscount)"
   ]
  },
  {
   "cell_type": "code",
   "execution_count": 1,
   "id": "adc80add",
   "metadata": {},
   "outputs": [
    {
     "name": "stdout",
     "output_type": "stream",
     "text": [
      "Enter the salary:1500\n",
      "the percentage of salary increment by employees 600.0\n",
      "Total increment: 900.0\n"
     ]
    }
   ],
   "source": [
    "# another example of if statement\n",
    "Totalsalary = int(input('Enter the salary:'))\n",
    "if Totalsalary<2000:\n",
    "    salaryincrement = Totalsalary*0.4\n",
    "    print('the percentage of salary increment by employees', salaryincrement)\n",
    "elif Totalsalary>5000:\n",
    "    salaryincrement = Totalsalary*0.10\n",
    "    print('the percentage of salary increment by employees', salaryincrement)\n",
    "else:\n",
    "    salaryincrement = Totalsalary*0.9\n",
    "    print('the percentage of salary increment by employees', salaryincrement)\n",
    "print('Total increment:', Totalsalary-salaryincrement)\n"
   ]
  },
  {
   "cell_type": "code",
   "execution_count": 2,
   "id": "cef1fd8c",
   "metadata": {},
   "outputs": [
    {
     "name": "stdout",
     "output_type": "stream",
     "text": [
      "enter the body weight:70\n",
      "the amount of fat in human body 35.0\n",
      "total body weight: 35.0\n"
     ]
    }
   ],
   "source": [
    "# if loop program \n",
    "bodyweight = int(input('enter the body weight:'))\n",
    "if bodyweight>60:\n",
    "    fat = bodyweight*0.50\n",
    "    print('the amount of fat in human body', fat)\n",
    "elif bodyweight<50:\n",
    "    fat = bodyweight*0.20\n",
    "    print('the amount of fat in human body',fat)\n",
    "elif bodyweight<40:\n",
    "    fat = bodyweight*0.05\n",
    "    print('the amount of fat in human body',fat)\n",
    "else:\n",
    "    fat = bodyweight*0.30\n",
    "    print('the amount of fat in human body',fat)\n",
    "print('total body weight:',bodyweight-fat)\n",
    "\n",
    "\n"
   ]
  },
  {
   "cell_type": "code",
   "execution_count": 1,
   "id": "206450c4",
   "metadata": {},
   "outputs": [
    {
     "name": "stdout",
     "output_type": "stream",
     "text": [
      "10\n",
      "20\n",
      "30\n",
      "40\n",
      "50\n"
     ]
    }
   ],
   "source": [
    "#for loop example\n",
    "nums = [10,20,30,40,50]\n",
    "for numbers in nums:\n",
    "    print(numbers)\n"
   ]
  }
 ],
 "metadata": {
  "kernelspec": {
   "display_name": "Python 3 (ipykernel)",
   "language": "python",
   "name": "python3"
  },
  "language_info": {
   "codemirror_mode": {
    "name": "ipython",
    "version": 3
   },
   "file_extension": ".py",
   "mimetype": "text/x-python",
   "name": "python",
   "nbconvert_exporter": "python",
   "pygments_lexer": "ipython3",
   "version": "3.9.12"
  }
 },
 "nbformat": 4,
 "nbformat_minor": 5
}
